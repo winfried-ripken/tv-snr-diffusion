{
 "cells": [
  {
   "cell_type": "code",
   "execution_count": 2,
   "metadata": {},
   "outputs": [],
   "source": [
    "%load_ext autoreload\n",
    "%autoreload 2"
   ]
  },
  {
   "cell_type": "code",
   "execution_count": 3,
   "metadata": {},
   "outputs": [
    {
     "data": {
      "text/plain": [
       "tensor(0.0072, device='cuda:0')"
      ]
     },
     "execution_count": 3,
     "metadata": {},
     "output_type": "execute_result"
    }
   ],
   "source": [
    "import os\n",
    "import pickle\n",
    "from pathlib import Path\n",
    "import torch\n",
    "\n",
    "network_pkl = \"models/baseline-cifar10-32x32-uncond-vp.pkl\"\n",
    "batch_size = 1\n",
    "device = \"cuda\"\n",
    "\n",
    "# Load network.\n",
    "#print(f'Loading network from \"{network_pkl}\"...')\n",
    "#with dnnlib.util.open_url(network_pkl) as f:\n",
    "#    net = pickle.load(f)['ema'].to(device)\n",
    "with open(network_pkl, 'rb') as f:\n",
    "    net = pickle.load(f)['ema'].to(device) \n",
    "\n",
    "if Path(\"latents.pt\").exists():\n",
    "    latents = torch.load('latents.pt')\n",
    "else:\n",
    "    # Pick latents and labels.\n",
    "    latents = torch.randn([batch_size, net.img_channels, net.img_resolution, net.img_resolution], device=device)\n",
    "    # save latents to file\n",
    "    torch.save(latents, 'latents.pt')\n",
    "\n",
    "class_labels = None\n",
    "if net.label_dim:\n",
    "    class_labels = torch.eye(net.label_dim, device=device)[torch.randint(net.label_dim, size=[batch_size], device=device)]\n",
    "\n",
    "def res_to_img(res):\n",
    "    return (res * 127.5 + 128).clip(0, 255).to(torch.uint8).cpu().numpy().squeeze().transpose(1,2,0)\n",
    "\n",
    "latents.mean()"
   ]
  },
  {
   "cell_type": "code",
   "execution_count": 26,
   "metadata": {},
   "outputs": [
    {
     "name": "stderr",
     "output_type": "stream",
     "text": [
      "18it [00:01, 15.91it/s]"
     ]
    },
    {
     "name": "stdout",
     "output_type": "stream",
     "text": [
      "tensor(0.3690, dtype=torch.float64)\n"
     ]
    },
    {
     "name": "stderr",
     "output_type": "stream",
     "text": [
      "\n"
     ]
    },
    {
     "data": {
      "image/png": "[encoded data removed]",
      "text/plain": [
       "<Figure size 640x480 with 1 Axes>"
      ]
     },
     "metadata": {},
     "output_type": "display_data"
    }
   ],
   "source": [
    "import torch\n",
    "import numpy as np\n",
    "from tv_snr.snr_schedules import *\n",
    "from tv_snr.sdes import *\n",
    "from tv_snr.scale_schedule import *\n",
    "from tv_snr.sampler import *\n",
    "from tv_snr.adaptive_scale_sampler import *\n",
    "from tv_snr.snr import *\n",
    "from tv_snr.constants import image_key\n",
    "import matplotlib.pyplot as plt\n",
    "\n",
    "T = 18\n",
    "sigma_max=80.0\n",
    "\n",
    "snr_sch = InverseSigmoid(slope=2., shift=0., t_min=(1/501), t_max=(80/81))\n",
    "scale_sch = FMScale(snr_sch)  # ConstantScale(snr_sch)\n",
    "sde = Scale_SNR_SDE(\n",
    "    snr_sch=snr_sch,\n",
    "    scale_sch=scale_sch,\n",
    "    invariant=False,\n",
    "    disc_type=\"forward\",\n",
    "    log_deriv=True\n",
    ")\n",
    "rsde = sde.reverse(stochastic=False)\n",
    "\n",
    "sampler = SNRHeunAdaptiveScale(\n",
    "    T=T,\n",
    "    time_schedule=None,\n",
    "    reverse_process = rsde,\n",
    "    denoiser = net,\n",
    "    out_var_scaler=1.0,\n",
    "    scale_input=False,\n",
    "    snr_key=\"gamma\",\n",
    "    std_key = \"sigma\",\n",
    "    noise_pred_key = \"eps_pred\",\n",
    "    max_stoch_std=float('inf'),\n",
    "    min_stoch_std=0.0,\n",
    "    clip_stoch_std=False,\n",
    "    selected_stoch=False,\n",
    "    save_progress=True,\n",
    "    conditional=False\n",
    ") \n",
    "\n",
    "result = sampler.denoise({image_key: latents})\n",
    "print(result[0][\"image\"].std())\n",
    "\n",
    "img = res_to_img(result[0][\"image\"])\n",
    "plt.imshow(img)\n",
    "plt.show()"
   ]
  }
 ],
 "metadata": {
  "kernelspec": {
   "display_name": "Python 3",
   "language": "python",
   "name": "python3"
  },
  "language_info": {
   "codemirror_mode": {
    "name": "ipython",
    "version": 3
   },
   "file_extension": ".py",
   "mimetype": "text/x-python",
   "name": "python",
   "nbconvert_exporter": "python",
   "pygments_lexer": "ipython3",
   "version": "3.11.9"
  }
 },
 "nbformat": 4,
 "nbformat_minor": 2
}
